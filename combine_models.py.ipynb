{
 "cells": [
  {
   "cell_type": "code",
   "execution_count": 5,
   "metadata": {},
   "outputs": [
    {
     "name": "stdout",
     "output_type": "stream",
     "text": [
      "368\n",
      "368\n",
      "368\n"
     ]
    }
   ],
   "source": [
    "import csv\n",
    "\n",
    "fields = ['ID', 'Label']\n",
    "\n",
    "amino = []\n",
    "dipeptide = []\n",
    "binary = []\n",
    "\n",
    "results = []\n",
    "\n",
    "file_amino = './amino_predictions.csv'\n",
    "file_dipeptide = './dipeptide_predictions.csv'\n",
    "file_binary = './binary_predictions.csv'\n",
    "\n",
    "with open(file_amino, 'r') as csvfile:\n",
    "    csvreader = csv.reader(csvfile)\n",
    "    for row in csvreader: \n",
    "        amino.append(row)\n",
    "\n",
    "amino = amino[1:]\n",
    "print(len(amino))\n",
    "\n",
    "\n",
    "with open(file_dipeptide, 'r') as csvfile:\n",
    "    csvreader = csv.reader(csvfile)\n",
    "    for row in csvreader: \n",
    "        dipeptide.append(row)\n",
    "\n",
    "dipeptide = dipeptide[1:]\n",
    "print(len(dipeptide))\n",
    "\n",
    "\n",
    "with open(file_binary, 'r') as csvfile:\n",
    "    csvreader = csv.reader(csvfile)\n",
    "    for row in csvreader: \n",
    "        binary.append(row)\n",
    "\n",
    "binary = binary[1:]\n",
    "print(len(binary))"
   ]
  },
  {
   "cell_type": "code",
   "execution_count": 6,
   "metadata": {},
   "outputs": [
    {
     "name": "stdout",
     "output_type": "stream",
     "text": [
      "368\n"
     ]
    }
   ],
   "source": [
    "size = len(binary)\n",
    "\n",
    "for i in range(size):\n",
    "    cur = str(amino[i][1]) + str(binary[i][1]) + str(dipeptide[i][1])\n",
    "    \n",
    "    cur_res = [amino[i][0]]\n",
    "    if (cur.count('-1') > 1):\n",
    "        cur_res.append(-1)\n",
    "    else:\n",
    "        cur_res.append(1)\n",
    "    \n",
    "    results.append(cur_res)\n",
    "    \n",
    "print(len(results))\n",
    "with open('combine_predictions.csv', 'w') as csvfile: \n",
    "    # creating a csv writer object \n",
    "    csvwriter = csv.writer(csvfile) \n",
    "      \n",
    "    # writing the fields \n",
    "    csvwriter.writerow(fields) \n",
    "      \n",
    "    # writing the data rows \n",
    "    csvwriter.writerows(results)"
   ]
  },
  {
   "cell_type": "code",
   "execution_count": null,
   "metadata": {},
   "outputs": [],
   "source": []
  }
 ],
 "metadata": {
  "kernelspec": {
   "display_name": "Python 3",
   "language": "python",
   "name": "python3"
  },
  "language_info": {
   "codemirror_mode": {
    "name": "ipython",
    "version": 3
   },
   "file_extension": ".py",
   "mimetype": "text/x-python",
   "name": "python",
   "nbconvert_exporter": "python",
   "pygments_lexer": "ipython3",
   "version": "3.7.3"
  }
 },
 "nbformat": 4,
 "nbformat_minor": 4
}
